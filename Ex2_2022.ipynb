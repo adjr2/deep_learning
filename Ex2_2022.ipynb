{
  "cells": [
    {
      "cell_type": "markdown",
      "metadata": {
        "id": "nm7R701oeFva"
      },
      "source": [
        "# Exercise Sheet 2 - CIFAR, MLP, Overfitting, and Regularization\n",
        "\n",
        " * Deep Learning – Summer term 2022\n",
        " * Instructors: Constantin Pape\n",
        " * Due date: **Mon, May 23, 12:00**\n",
        "\n",
        "\n",
        "## Time required to solve this exercise sheet\n",
        "**As you will train a large number of models on this exercise sheet, model training will require an increased amount of time. So we recommend to start working on this sheet early.**\n",
        "\n",
        "\n",
        "## Topic\n",
        "\n",
        "In this exercise sheet, you will:\n",
        "- get to know a new dataset: CIFAR-10\n",
        "- implement a MLP\n",
        "- get more familiar with model fitting\n",
        "- see overfitting\n",
        "- implement early stopping\n",
        "- explore hyperparameters and their influence\n",
        "- vary architecture to improve model performance\n",
        "\n",
        "*We are looking forward to seeing your solutions! Have fun!*\n",
        "\n",
        "\n",
        "## Important submission instructions\n",
        "\n",
        "- **You need to answer all questions in written form!**\n",
        "- When you're done, download the notebook and rename it to `<surname1>_<surname2>_<surname3>.ipynb`\n",
        "- Only submit the ipynb file, no other file is required\n",
        "- Submit only once\n",
        "- The deadline is strict\n",
        "- Do not change the cells which are marked as \"Do not change\", similarly write your solution into the marked cells.\n",
        "\n",
        "\n",
        "## Imports"
      ]
    },
    {
      "cell_type": "code",
      "execution_count": 2,
      "metadata": {
        "id": "1XrVYE4LeFvb"
      },
      "outputs": [],
      "source": [
        "import os\n",
        "import fastprogress\n",
        "import time\n",
        "\n",
        "import numpy as np\n",
        "import matplotlib.pyplot as plt\n",
        "import seaborn as sns\n",
        "\n",
        "import torch\n",
        "import torch.nn as nn\n",
        "import torch.optim as optim\n",
        "import torch.nn.functional as F\n",
        "import torchvision\n",
        "from torch.utils.data import DataLoader"
      ]
    },
    {
      "cell_type": "markdown",
      "metadata": {
        "id": "14rMIxkfeFve"
      },
      "source": [
        "### GPU and Cuda checks"
      ]
    },
    {
      "cell_type": "code",
      "execution_count": 3,
      "metadata": {
        "id": "489rb-jieFvf"
      },
      "outputs": [],
      "source": [
        "def get_device(cuda_preference=True):\n",
        "    \"\"\"Gets pytorch device object. If cuda_preference=True and \n",
        "        cuda is available on your system, returns a cuda device.\n",
        "    \n",
        "    Args:\n",
        "        cuda_preference: bool, default True\n",
        "            Set to true if you would like to get a cuda device\n",
        "            \n",
        "    Returns: pytorch device object\n",
        "            Pytorch device\n",
        "    \"\"\"\n",
        "    \n",
        "    print('cuda available:', torch.cuda.is_available(), \n",
        "          '; cudnn available:', torch.backends.cudnn.is_available(),\n",
        "          '; num devices:', torch.cuda.device_count())\n",
        "    \n",
        "    use_cuda = False if not cuda_preference else torch.cuda.is_available()\n",
        "    device = torch.device('cuda:0' if use_cuda else 'cpu')\n",
        "    device_name = torch.cuda.get_device_name(device) if use_cuda else 'cpu'\n",
        "    print('Using device', device_name)\n",
        "    return device"
      ]
    },
    {
      "cell_type": "code",
      "execution_count": 4,
      "metadata": {
        "colab": {
          "base_uri": "https://localhost:8080/"
        },
        "id": "mJZB1C8teFvj",
        "outputId": "2ed8b169-6bde-49b6-f02f-aeb84a2a4522"
      },
      "outputs": [
        {
          "output_type": "stream",
          "name": "stdout",
          "text": [
            "cuda available: True ; cudnn available: True ; num devices: 1\n",
            "Using device Tesla K80\n",
            "2 CPUs available\n"
          ]
        }
      ],
      "source": [
        "device = get_device()\n",
        "\n",
        "# Get number of cpus to use for faster parallelized data loading\n",
        "num_cpus = os.cpu_count()\n",
        "print(num_cpus, 'CPUs available')"
      ]
    },
    {
      "cell_type": "markdown",
      "metadata": {
        "id": "ZffGCBsTeFvl"
      },
      "source": [
        "**Recommendation:** Use GPU or TPU for faster model training. Exercise sheet 1 explains how to do that on Colab."
      ]
    },
    {
      "cell_type": "markdown",
      "metadata": {
        "id": "cZecMZXieFvm"
      },
      "source": [
        "## Load data"
      ]
    },
    {
      "cell_type": "code",
      "execution_count": 5,
      "metadata": {
        "id": "bV38CFuheFvm"
      },
      "outputs": [],
      "source": [
        "def grab_data(data_dir, num_cpus=1):\n",
        "    \"\"\"Downloads CIFAR10 train and test set, stores them on disk, computes mean \n",
        "        and standard deviation per channel of trainset, normalizes the train set\n",
        "        accordingly.\n",
        "\n",
        "    Args:\n",
        "        data_dir (str): Directory to store data\n",
        "        num_cpus (int, optional): Number of cpus that should be used to \n",
        "            preprocess data. Defaults to 1.\n",
        "\n",
        "    Returns:\n",
        "        CIFAR10, CIFAR10, float, float: Returns trainset and testset as\n",
        "            torchvision CIFAR10 dataset objects. Returns mean and standard\n",
        "            deviation used for normalization.\n",
        "    \"\"\"\n",
        "    trainset = torchvision.datasets.CIFAR10(data_dir, train=True, download=True, \n",
        "                                            transform=torchvision.transforms.ToTensor())\n",
        "\n",
        "    # Get normalization transform\n",
        "    num_samples = trainset.data.shape[0]\n",
        "    trainloader = torch.utils.data.DataLoader(trainset, batch_size=num_samples, \n",
        "                                              num_workers=num_cpus)\n",
        "    imgs, _ = next(iter(trainloader))\n",
        "    dataset_mean = torch.mean(imgs, dim=(0,2,3))\n",
        "    dataset_std = torch.std(imgs, dim=(0,2,3))\n",
        "\n",
        "    normalized_transform = torchvision.transforms.Compose([\n",
        "        torchvision.transforms.ToTensor(),\n",
        "        torchvision.transforms.Normalize(dataset_mean, dataset_std)\n",
        "    ])\n",
        "\n",
        "    # Load again, now normalized\n",
        "    trainset = torchvision.datasets.CIFAR10(data_dir, download=True, train=True, \n",
        "                                            transform=normalized_transform) \n",
        "    # Apply the same transform, computed from the train-set, to the test-set\n",
        "    # so both have a similar distribution. We do not normalize the test-set directly,\n",
        "    # since we are not allowed to perform any computations with it. (We only use it\n",
        "    # for reporting results in the very end)\n",
        "    testset = torchvision.datasets.CIFAR10(data_dir, download=True, train=False, \n",
        "                                           transform=normalized_transform)\n",
        "\n",
        "    return trainset, testset, dataset_mean, dataset_std\n",
        "        \n",
        "        \n",
        "def generate_train_val_data_split(trainset, split_seed=42, val_frac=0.2):\n",
        "    \"\"\"Splits train dataset into train and validation dataset.\n",
        "\n",
        "    Args:\n",
        "        trainset (CIFAR10): CIFAR10 trainset object\n",
        "        split_seed (int, optional): Seed used to randomly assign data\n",
        "            points to the validation set. Defaults to 42.\n",
        "        val_frac (float, optional): Fraction of training set that should be \n",
        "            split into validation set. Defaults to 0.2.\n",
        "\n",
        "    Returns:\n",
        "        CIFAR10, CIFAR10: CIFAR10 trainset and validation set.\n",
        "    \"\"\"\n",
        "    num_val_samples = np.ceil(val_frac * trainset.data.shape[0]).astype(int)\n",
        "    num_train_samples = trainset.data.shape[0] - num_val_samples\n",
        "    trainset, valset = torch.utils.data.random_split(trainset, \n",
        "                                  (num_train_samples, num_val_samples), \n",
        "                                  generator=torch.Generator().manual_seed(split_seed))\n",
        "    return trainset, valset\n",
        "    \n",
        "    \n",
        "def init_data_loaders(trainset, valset, testset, batch_size=1024, num_cpus=1):\n",
        "    \"\"\"Initialize train, validation and test data loader.\n",
        "\n",
        "    Args:\n",
        "        trainset (CIFAR10): Training set torchvision dataset object.\n",
        "        valset (CIFAR10): Validation set torchvision dataset object.\n",
        "        testset (CIFAR10): Test set torchvision dataset object.\n",
        "        batch_size (int, optional): Batchsize that should be generated by \n",
        "            pytorch dataloader object. Defaults to 1024.\n",
        "        num_cpus (int, optional): Number of CPUs to use when iterating over\n",
        "            the data loader. More is faster. Defaults to 1.\n",
        "\n",
        "    Returns:\n",
        "        DataLoader, DataLoader, DataLoader: Returns pytorch DataLoader objects\n",
        "            for training, validation and testing.\n",
        "    \"\"\"        \n",
        "    trainloader = torch.utils.data.DataLoader(trainset,\n",
        "                                                   batch_size=batch_size,\n",
        "                                                   shuffle=True,\n",
        "                                                   num_workers=num_cpus)\n",
        "    valloader = torch.utils.data.DataLoader(valset, \n",
        "                                                 batch_size=batch_size,\n",
        "                                                 shuffle=True,\n",
        "                                                 num_workers=num_cpus)\n",
        "    testloader = torch.utils.data.DataLoader(testset,\n",
        "                                                  batch_size=batch_size,\n",
        "                                                  shuffle=True, \n",
        "                                                  num_workers=num_cpus)\n",
        "    return trainloader, valloader, testloader"
      ]
    },
    {
      "cell_type": "markdown",
      "metadata": {
        "id": "4tjVQJGaeFvo"
      },
      "source": [
        "#### TODO\n",
        "- Load the CIFAR 10 train and test data set using the functions defined above\n",
        "- Generate a validation set from 20% of the training set samples. *Remember:* Keep the seed for the validation set generation fixed for reproducibility.\n",
        "- Generate torch data loaders for the train, validation and test data set splits. Use a batch size of 1024.\n",
        "\n",
        "*Hint:* we will use the mean and standard deviation returned by ```grab_data``` later"
      ]
    },
    {
      "cell_type": "code",
      "execution_count": 6,
      "metadata": {
        "colab": {
          "base_uri": "https://localhost:8080/",
          "height": 118,
          "referenced_widgets": [
            "5763cd70c18846a1a369202b36d90056",
            "228574fb95e14d72bdafc45e06d645a2",
            "61b2d93653574b0aadfa97fa9467dcff",
            "89ea8f4fb8364956a2f0c750e6ef9152",
            "b5e3de68d460425c9ea3c4ac55a95e07",
            "488fe8ecd39248d3bf2623526f05c5df",
            "1d3300fc5ae54e15a35191d866c643a1",
            "38419af9f7874246aaeb08d3774aed4a",
            "3ed6d5e9cb9047298b1f0c309c80631b",
            "4cfac05678f747fc8d759e3c442ced3e",
            "b3e1504759204b8d8d856b46b9f261b4"
          ]
        },
        "id": "jm0zzY5neFvo",
        "outputId": "d21a7e8d-37e1-4192-abb6-2e6f2070b30a"
      },
      "outputs": [
        {
          "output_type": "stream",
          "name": "stdout",
          "text": [
            "Downloading https://www.cs.toronto.edu/~kriz/cifar-10-python.tar.gz to data/cifar-10-python.tar.gz\n"
          ]
        },
        {
          "output_type": "display_data",
          "data": {
            "text/plain": [
              "  0%|          | 0/170498071 [00:00<?, ?it/s]"
            ],
            "application/vnd.jupyter.widget-view+json": {
              "version_major": 2,
              "version_minor": 0,
              "model_id": "5763cd70c18846a1a369202b36d90056"
            }
          },
          "metadata": {}
        },
        {
          "output_type": "stream",
          "name": "stdout",
          "text": [
            "Extracting data/cifar-10-python.tar.gz to data/\n",
            "Files already downloaded and verified\n",
            "Files already downloaded and verified\n"
          ]
        }
      ],
      "source": [
        "####################\n",
        "## YOUR CODE HERE ##\n",
        "####################\n",
        "trainset, testset, dataset_mean, dataset_std = grab_data('data/', num_cpus=1)\n",
        "trainset, valset = generate_train_val_data_split(trainset)\n",
        "trainloader, valloader, testloader = init_data_loaders(trainset, valset, testset)"
      ]
    },
    {
      "cell_type": "markdown",
      "metadata": {
        "id": "NOI2c7r_eFvq"
      },
      "source": [
        "Let's have a look at the dataset.\n",
        "\n",
        "#### TODO\n",
        "- Print all class names\n",
        "- Plot 16 images randomly drawn from the training set with their according class label\n",
        "\n",
        "*Hint:* Since you normalized the dataset before, you have to undo that operation for plotting"
      ]
    },
    {
      "cell_type": "code",
      "execution_count": 7,
      "metadata": {
        "id": "QqTToe_reFvr"
      },
      "outputs": [],
      "source": [
        "inv_normalize = torchvision.transforms.Normalize(\n",
        "   mean=(-1)*dataset_mean,\n",
        "   std=1/dataset_std\n",
        ")\n",
        "def imshow(img, mean, std):\n",
        "    \"\"\"Undo normalization using mean and standarddeviation and show image.\n",
        "\n",
        "    Args:\n",
        "        img (torch.Tensor): Image to show\n",
        "        mean (np.array shape (3,)): Vector of means per channel used to\n",
        "            normalize the dataset.\n",
        "        std (np.array shape (3,)): Vector of standard deviations per channel \n",
        "            used to normalize the dataset.\n",
        "    \"\"\"\n",
        "    ####################\n",
        "    ## YOUR CODE HERE ##\n",
        "    ####################\n",
        "    # Define function to plot\n",
        "    inv_img = inv_normalize(img)\n",
        "    inv_img_np = inv_img.numpy()\n",
        "    plt.imshow(np.transpose(inv_img_np,(1,2,0)));\n",
        "    plt.show();"
      ]
    },
    {
      "cell_type": "code",
      "execution_count": 8,
      "metadata": {
        "id": "gMJeL6NrNNUr",
        "outputId": "5785c17c-104a-473f-9665-7c931bca48f7",
        "colab": {
          "base_uri": "https://localhost:8080/"
        }
      },
      "outputs": [
        {
          "output_type": "stream",
          "name": "stdout",
          "text": [
            "All the classes: ['airplane', 'automobile', 'bird', 'cat', 'deer', 'dog', 'frog', 'horse', 'ship', 'truck']\n"
          ]
        }
      ],
      "source": [
        "print(f\"All the classes: {trainset.dataset.classes}\")"
      ]
    },
    {
      "cell_type": "code",
      "execution_count": 9,
      "metadata": {
        "colab": {
          "base_uri": "https://localhost:8080/",
          "height": 584
        },
        "id": "8E3LhkZBeFvt",
        "outputId": "c0b3ddfe-1ad8-4c1d-8f7e-7f038b0f3cfd"
      },
      "outputs": [
        {
          "output_type": "stream",
          "name": "stderr",
          "text": [
            "Clipping input data to the valid range for imshow with RGB data ([0..1] for floats or [0..255] for integers).\n"
          ]
        },
        {
          "output_type": "stream",
          "name": "stdout",
          "text": [
            "Class: truck\n"
          ]
        },
        {
          "output_type": "display_data",
          "data": {
            "text/plain": [
              "<Figure size 432x288 with 1 Axes>"
            ],
            "image/png": "[encoded data removed]"
          },
          "metadata": {
            "needs_background": "light"
          }
        },
        {
          "output_type": "stream",
          "name": "stderr",
          "text": [
            "Clipping input data to the valid range for imshow with RGB data ([0..1] for floats or [0..255] for integers).\n"
          ]
        },
        {
          "output_type": "stream",
          "name": "stdout",
          "text": [
            "Class: dog\n"
          ]
        },
        {
          "output_type": "display_data",
          "data": {
            "text/plain": [
              "<Figure size 432x288 with 1 Axes>"
            ],
            "image/png": "[encoded data removed]"
          },
          "metadata": {
            "needs_background": "light"
          }
        }
      ],
      "source": [
        "####################\n",
        "## YOUR CODE HERE ##\n",
        "####################\n",
        "# Create actual plot and print the class names\n",
        "dataiter = iter(trainloader)\n",
        "img, label = next(dataiter)\n",
        "for i in range(2):\n",
        "  print(f\"Class: {trainset.dataset.classes[label[i]]}\")\n",
        "  imshow(torchvision.utils.make_grid(img[i]), dataset_mean, dataset_std)"
      ]
    },
    {
      "cell_type": "markdown",
      "metadata": {
        "id": "MeOg2QFLeFvv"
      },
      "source": [
        "## Training, evaluation and plotting functions from Exercise 1\n",
        "\n",
        "Here, we provide examples of the functions you implemented on the first exercise sheet to you. Some parts are still missing. You can ignore that for the time being, as you will implement that later as soon as the according functionality is required."
      ]
    },
    {
      "cell_type": "code",
      "execution_count": 35,
      "metadata": {
        "id": "7q1EXvxbeFvw"
      },
      "outputs": [],
      "source": [
        "def accuracy(correct, total): \n",
        "    \"\"\"Compute accuracy as percentage.\n",
        "\n",
        "    Args:\n",
        "        correct (int): Number of samples correctly predicted.\n",
        "        total (int): Total number of samples\n",
        "\n",
        "    Returns:\n",
        "        float: Accuracy\n",
        "    \"\"\"\n",
        "    return float(correct)/total\n",
        "\n",
        "\n",
        "def train(dataloader, optimizer, model, loss_fn, device, master_bar):\n",
        "    \"\"\"Run one training epoch.\n",
        "\n",
        "    Args:\n",
        "        dataloader (DataLoader): Torch DataLoader object to load data\n",
        "        optimizer: Torch optimizer object\n",
        "        model (nn.Module): Torch model to train\n",
        "        loss_fn: Torch loss function\n",
        "        device (torch.device): Torch device to use for training\n",
        "        master_bar (fastprogress.master_bar): Will be iterated over for each\n",
        "            epoch to draw batches and display training progress\n",
        "\n",
        "    Returns:\n",
        "        float, float: Mean loss of this epoch, fraction of correct predictions\n",
        "            on training set (accuracy)\n",
        "    \"\"\"\n",
        "    epoch_loss = []\n",
        "    epoch_correct, epoch_total = 0, 0\n",
        "\n",
        "    for x, y in fastprogress.progress_bar(dataloader, parent=master_bar):\n",
        "        optimizer.zero_grad()\n",
        "        model.train()\n",
        "\n",
        "        # Forward pass\n",
        "        y_pred = model(x.to(device))\n",
        "\n",
        "        # For calculating the accuracy, save the number of correctly classified \n",
        "        # images and the total number\n",
        "        epoch_correct += sum(y.to(device) == y_pred.argmax(dim=1))\n",
        "        epoch_total += len(y)\n",
        "\n",
        "        # Compute loss\n",
        "        loss = loss_fn(y_pred, y.to(device))\n",
        "\n",
        "        # Backward pass\n",
        "        loss.backward()\n",
        "        optimizer.step()\n",
        "\n",
        "        # For plotting the train loss, save it for each sample\n",
        "        epoch_loss.append(loss.item())\n",
        "\n",
        "    # Return the mean loss and the accuracy of this epoch\n",
        "    return np.mean(epoch_loss), accuracy(epoch_correct, epoch_total)\n",
        "\n",
        "\n",
        "def validate(dataloader, model, loss_fn, device, master_bar):\n",
        "    \"\"\"Compute loss, accuracy and confusion matrix on validation set.\n",
        "\n",
        "    Args:\n",
        "        dataloader (DataLoader): Torch DataLoader object to load data\n",
        "        model (nn.Module): Torch model to train\n",
        "        loss_fn: Torch loss function\n",
        "        device (torch.device): Torch device to use for training\n",
        "        master_bar (fastprogress.master_bar): Will be iterated over to draw \n",
        "            batches and show validation progress\n",
        "\n",
        "    Returns:\n",
        "        float, float, torch.Tensor shape (10,10): Mean loss on validation set, \n",
        "            fraction of correct predictions on validation set (accuracy)\n",
        "    \"\"\"\n",
        "    epoch_loss = []\n",
        "    epoch_correct, epoch_total = 0, 0\n",
        "    confusion_matrix = torch.zeros(10, 10)    \n",
        "\n",
        "    model.eval()\n",
        "    with torch.no_grad():\n",
        "        for x, y in fastprogress.progress_bar(dataloader, parent=master_bar):\n",
        "            # make a prediction on validation set\n",
        "            y_pred = model(x.to(device))\n",
        "\n",
        "            # For calculating the accuracy, save the number of correctly \n",
        "            # classified images and the total number\n",
        "            epoch_correct += sum(y.to(device) == y_pred.argmax(dim=1))\n",
        "            epoch_total += len(y)\n",
        "\n",
        "            # Fill confusion matrix\n",
        "            for (y_true, y_p) in zip(y, y_pred.argmax(dim=1)):\n",
        "                confusion_matrix[int(y_true), int(y_p)] +=1\n",
        "\n",
        "            # Compute loss\n",
        "            loss = loss_fn(y_pred, y.to(device))\n",
        "\n",
        "            # For plotting the train loss, save it for each sample\n",
        "            epoch_loss.append(loss.item())\n",
        "\n",
        "    # Return the mean loss, the accuracy and the confusion matrix\n",
        "    return np.mean(epoch_loss), accuracy(epoch_correct, epoch_total), confusion_matrix\n",
        "\n",
        "\n",
        "def run_training(model, optimizer, loss_function, device, num_epochs, \n",
        "                train_dataloader, val_dataloader, early_stopper=None, verbose=False):\n",
        "    \"\"\"Run model training.\n",
        "\n",
        "    Args:\n",
        "        model (nn.Module): Torch model to train\n",
        "        optimizer: Torch optimizer object\n",
        "        loss_fn: Torch loss function for training\n",
        "        device (torch.device): Torch device to use for training\n",
        "        num_epochs (int): Max. number of epochs to train\n",
        "        train_dataloader (DataLoader): Torch DataLoader object to load the\n",
        "            training data\n",
        "        val_dataloader (DataLoader): Torch DataLoader object to load the\n",
        "            validation data\n",
        "        early_stopper (EarlyStopper, optional): If passed, model will be trained\n",
        "            with early stopping. Defaults to None.\n",
        "        verbose (bool, optional): Print information about model training. \n",
        "            Defaults to False.\n",
        "\n",
        "    Returns:\n",
        "        list, list, list, list, torch.Tensor shape (10,10): Return list of train\n",
        "            losses, validation losses, train accuracies, validation accuracies\n",
        "            per epoch and the confusion matrix evaluated in the last epoch.\n",
        "    \"\"\"\n",
        "    start_time = time.time()\n",
        "    master_bar = fastprogress.master_bar(range(num_epochs))\n",
        "    train_losses, val_losses, train_accs, val_accs = [],[],[],[]\n",
        "\n",
        "    for epoch in master_bar:\n",
        "        # Train the model\n",
        "        epoch_train_loss, epoch_train_acc = train(train_dataloader, optimizer, model, \n",
        "                                                  loss_function, device, master_bar)\n",
        "        # Validate the model\n",
        "        epoch_val_loss, epoch_val_acc, confusion_matrix = validate(val_dataloader, \n",
        "                                                                   model, loss_function, \n",
        "                                                                   device, master_bar)\n",
        "\n",
        "        # Save loss and acc for plotting\n",
        "        train_losses.append(epoch_train_loss)\n",
        "        val_losses.append(epoch_val_loss)\n",
        "        train_accs.append(epoch_train_acc)\n",
        "        val_accs.append(epoch_val_acc)\n",
        "        \n",
        "        if verbose:\n",
        "            master_bar.write(f'Train loss: {epoch_train_loss:.2f}, val loss: {epoch_val_loss:.2f}, train acc: {epoch_train_acc:.3f}, val acc {epoch_val_acc:.3f}')\n",
        "            \n",
        "        if early_stopper:\n",
        "            ####################\n",
        "            ## YOUR CODE HERE ##\n",
        "            ####################\n",
        "          if early_stopper.early_stop:\n",
        "            break\n",
        "          early_stopper.check_accuracy(epoch_val_acc, model)\n",
        "              # check if accuracy increased\n",
        "              # if increased save the model\n",
        "              # if doesn't then break from the loop.\n",
        "            # raise NotImplementedError\n",
        "\n",
        "            # END OF YOUR CODE #\n",
        "            \n",
        "    time_elapsed = np.round(time.time() - start_time, 0).astype(int)\n",
        "    print(f'Finished training after {time_elapsed} seconds.')\n",
        "    return train_losses, val_losses, train_accs, val_accs, confusion_matrix\n",
        "\n",
        "\n",
        "def plot(title, label, train_results, val_results, yscale='linear', save_path=None, \n",
        "         extra_pt=None, extra_pt_label=None):\n",
        "    \"\"\"Plot learning curves.\n",
        "\n",
        "    Args:\n",
        "        title (str): Title of plot\n",
        "        label (str): x-axis label\n",
        "        train_results (list): Results vector of training of length of number\n",
        "            of epochs trained. Could be loss or accuracy.\n",
        "        val_results (list): Results vector of validation of length of number\n",
        "            of epochs. Could be loss or accuracy.\n",
        "        yscale (str, optional): Matplotlib.pyplot.yscale parameter. \n",
        "            Defaults to 'linear'.\n",
        "        save_path (str, optional): If passed, figure will be saved at this path.\n",
        "            Defaults to None.\n",
        "        extra_pt (tuple, optional): Tuple of length 2, defining x and y coordinate\n",
        "            of where an additional black dot will be plotted. Defaults to None.\n",
        "        extra_pt_label (str, optional): Legend label of extra point. Defaults to None.\n",
        "    \"\"\"\n",
        "    \n",
        "    epoch_array = np.arange(len(train_results)) + 1\n",
        "    train_label, val_label = \"Training \"+label.lower(), \"Validation \"+label.lower()\n",
        "    \n",
        "    sns.set(style='ticks')\n",
        "\n",
        "    plt.plot(epoch_array, train_results, epoch_array, val_results, linestyle='dashed', marker='o')\n",
        "    legend = ['Train results', 'Validation results']\n",
        "    \n",
        "    if extra_pt:\n",
        "        ####################\n",
        "        ## YOUR CODE HERE ##\n",
        "        ####################\n",
        "        plt.plot(extra_pt[1], extra_pt[0], color='k',marker='o')\n",
        "        plt.axvline(extra_pt[1], color=\"green\",linestyle='dashed')\n",
        "        # raise NotImplementedError\n",
        "\n",
        "        # END OF YOUR CODE #\n",
        "        \n",
        "    plt.legend(legend)\n",
        "    plt.xlabel('Epoch')\n",
        "    plt.ylabel(label)\n",
        "    plt.yscale(yscale)\n",
        "    plt.title(title)\n",
        "    \n",
        "    sns.despine(trim=True, offset=5)\n",
        "    plt.title(title, fontsize=15)\n",
        "    if save_path:\n",
        "        plt.savefig(str(save_path), bbox_inches='tight')\n",
        "    plt.show()"
      ]
    },
    {
      "cell_type": "markdown",
      "metadata": {
        "id": "Qy_TVHA0eFvy"
      },
      "source": [
        "## MLP model\n",
        "\n",
        "#### TODO\n",
        "- Define an MLP model implementing all the functionality indicated by the parameters and the docstrings\n",
        "- There should be a non-linearity after the input layer and in the hidden layers, i.e. in all layers that map to hidden units, but not in the final (linear) layer that creates the outputs\n",
        "\n",
        "*Hint*: As CIFAR 10 contains color images, amongst other dimensions you want to flatten the color channel dimension, too."
      ]
    },
    {
      "cell_type": "code",
      "execution_count": null,
      "metadata": {
        "colab": {
          "base_uri": "https://localhost:8080/"
        },
        "id": "cr-9wAkUXKXG",
        "outputId": "73b9b83d-e258-4b53-892e-d2aae750440b"
      },
      "outputs": [
        {
          "data": {
            "text/plain": [
              "torch.Size([3072])"
            ]
          },
          "execution_count": 23,
          "metadata": {},
          "output_type": "execute_result"
        }
      ],
      "source": [
        "# EXTRA\n",
        "# img[0].shape\n",
        "def flatten(t):\n",
        "    t = t.reshape(1, -1)\n",
        "    t = t.squeeze()\n",
        "    return t\n",
        "\n",
        "# flatten(img[0]).shape\n",
        "m = nn.Flatten(0)\n",
        "img_flatten = m(img[0])\n",
        "img_flatten.size()\n",
        "# img[0]"
      ]
    },
    {
      "cell_type": "code",
      "execution_count": 11,
      "metadata": {
        "id": "E6JBMoydeFvy"
      },
      "outputs": [],
      "source": [
        "class MLP(nn.Module):\n",
        "    \"\"\"Multi layer perceptron torch model.\"\"\"\n",
        "    def __init__(self, img_width, num_in_channels, num_classes, \n",
        "                 num_hidden_units=30, num_hidden_layers=1, act_fn=None):\n",
        "        \"\"\"Initialize model.\n",
        "\n",
        "        Args:\n",
        "            img_width (int): Width of images\n",
        "            num_in_channels (int): Number of input channels of images\n",
        "            num_classes (int): Number of classes to predict\n",
        "            num_hidden_units (int, optional): Number of hidden units per layer. \n",
        "                Defaults to 30.\n",
        "            num_hidden_layers (int, optional): Number of hidden layers. Total\n",
        "                number of layers will be num_hidden_layers + 2. Defaults to 1.\n",
        "            act_fn (nn activation function, optional): Activation function\n",
        "                to use after the first and all the hidden layers. If None, use\n",
        "                nn.ReLU(). Defaults to None.\n",
        "        \"\"\"\n",
        "        ####################\n",
        "        ## YOUR CODE HERE ##\n",
        "        ####################\n",
        "        super(MLP, self).__init__()\n",
        "        self.flatten = nn.Flatten()\n",
        "        self.input = nn.Linear(img_width*img_width*num_in_channels, num_hidden_units)\n",
        "        self.hidden = nn.Linear(num_hidden_units, num_hidden_units)\n",
        "        self.num_hidden_layers = num_hidden_layers\n",
        "        if act_fn:\n",
        "          self.act_fn = act_fn\n",
        "        else:\n",
        "          self.act_fn = nn.ReLU()\n",
        "        self.output = nn.Linear(num_hidden_units, num_classes)\n",
        "\n",
        "    \n",
        "    \n",
        "    def forward(self, x):\n",
        "        \"\"\"Compute model predictions.\n",
        "\n",
        "        Args:\n",
        "            x (torch.Tensor, shape (batchsize, num_channels, x, y)): Tensor of\n",
        "                batch of input images\n",
        "\n",
        "        Returns:\n",
        "            torch.Tensor, shape (batchsize, num_classes): Tensor of model\n",
        "                predictions\n",
        "        \"\"\"\n",
        "        ####################\n",
        "        ## YOUR CODE HERE ##\n",
        "        ####################\n",
        "        x = self.flatten(x)\n",
        "        x = self.input(x)\n",
        "        for i in range(self.num_hidden_layers):\n",
        "          x = self.hidden(x)\n",
        "          x = self.act_fn(x)\n",
        "        x = self.output(x)\n",
        "        return x"
      ]
    },
    {
      "cell_type": "markdown",
      "metadata": {
        "id": "FiYYLUi4eFv0"
      },
      "source": [
        "## Model training: learning rate\n",
        "\n",
        "One of the most important hyperparameters is the learning rate. If we set it incorrectly, our model might not train at all, take very long time to train, or lead to suboptimal performance. Thus, we should make sure to set it appropriately.\n",
        "\n",
        "So with what learning rate should we start? Usually, you would start setting a very high learning rate, e.g. ```lr = 1e0``` and then decrease it by a factor of ten until the model starts to converge. Since we might have to try multiple values here, it is sufficient to train only a few iterations to see if the model trains at all. As soon as we find a learning rate that works, we train for more epochs to get a well performing model.\n",
        "\n",
        "For optimization, we do not use SGD as in exercise 1, but the commonly used Adam optimizer, since it behaves more robustly and is easy to use.\n",
        "\n",
        "#### TODO\n",
        "- Instantiate a MLP model with one hidden layer and ReLU activation function \n",
        "- Train the model for 10 epochs\n",
        "- Use the Adam optimizer\n",
        "- Start with a learning rate of $10^0$, then decrease the learning rate logarithmically, i.e. by a factor of 10, until your model starts to train\n",
        "- Plot the training curves of the loss and the accuracies as in exercise 1. Use the functions defined above.\n",
        "\n",
        "*Hints:*"
      ]
    },
    {
      "cell_type": "markdown",
      "metadata": {
        "id": "ycb6Pess7Rw2"
      },
      "source": [
        "**This is an example of a model that does not train sufficiently:** *(Why?)*\n",
        "\n",
        "![training_bad_loss_scale.png](data:image/png;base64,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)\n",
        "\n",
        "![training_bad_acc_scale.png](data:image/png;base64,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)"
      ]
    },
    {
      "cell_type": "markdown",
      "metadata": {
        "id": "4-hx9Ggt7TUF"
      },
      "source": [
        "**This is an example of a model that does train:** *(Why?)*\n",
        "\n",
        "![training_example_loss_scale.png](data:image/png;base64,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)\n",
        "\n",
        "![training_example_acc_scale.png](data:image/png;base64,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)"
      ]
    },
    {
      "cell_type": "code",
      "execution_count": 12,
      "metadata": {
        "colab": {
          "base_uri": "https://localhost:8080/"
        },
        "id": "xviV7mAZetIX",
        "outputId": "3e6b9c20-65f2-4dea-e8f1-cfd083345e38"
      },
      "outputs": [
        {
          "output_type": "execute_result",
          "data": {
            "text/plain": [
              "MLP(\n",
              "  (flatten): Flatten(start_dim=1, end_dim=-1)\n",
              "  (input): Linear(in_features=3072, out_features=30, bias=True)\n",
              "  (hidden): Linear(in_features=30, out_features=30, bias=True)\n",
              "  (act_fn): ReLU()\n",
              "  (output): Linear(in_features=30, out_features=10, bias=True)\n",
              ")"
            ]
          },
          "metadata": {},
          "execution_count": 12
        }
      ],
      "source": [
        "model = MLP(32, 3, 10)\n",
        "model.to(device=\"cuda\")"
      ]
    },
    {
      "cell_type": "code",
      "execution_count": 15,
      "metadata": {
        "colab": {
          "base_uri": "https://localhost:8080/",
          "height": 616
        },
        "id": "pm8AQYTzeFv1",
        "outputId": "d13213eb-7c61-4846-85e0-34130d085c2a"
      },
      "outputs": [
        {
          "output_type": "display_data",
          "data": {
            "text/plain": [
              "<IPython.core.display.HTML object>"
            ],
            "text/html": [
              "\n",
              "<style>\n",
              "    /* Turns off some styling */\n",
              "    progress {\n",
              "        /* gets rid of default border in Firefox and Opera. */\n",
              "        border: none;\n",
              "        /* Needs to be in here for Safari polyfill so background images work as expected. */\n",
              "        background-size: auto;\n",
              "    }\n",
              "    .progress-bar-interrupted, .progress-bar-interrupted::-webkit-progress-bar {\n",
              "        background: #F44336;\n",
              "    }\n",
              "</style>\n"
            ]
          },
          "metadata": {}
        },
        {
          "output_type": "display_data",
          "data": {
            "text/plain": [
              "<IPython.core.display.HTML object>"
            ],
            "text/html": [
              ""
            ]
          },
          "metadata": {}
        },
        {
          "output_type": "stream",
          "name": "stdout",
          "text": [
            "Finished training after 88 seconds.\n"
          ]
        },
        {
          "output_type": "display_data",
          "data": {
            "text/plain": [
              "<Figure size 432x288 with 1 Axes>"
            ],
            "image/png": "[encoded data removed]"
          },
          "metadata": {}
        },
        {
          "output_type": "display_data",
          "data": {
            "text/plain": [
              "<Figure size 432x288 with 1 Axes>"
            ],
            "image/png": "[encoded data removed]"
          },
          "metadata": {}
        }
      ],
      "source": [
        "####################\n",
        "## YOUR CODE HERE ##\n",
        "####################\n",
        "num_epochs=5 #10\n",
        "\n",
        "loss_function = torch.nn.CrossEntropyLoss()\n",
        "\n",
        "# lr_list = [1e0,1e-1,1e-2,1e-3,1e-4,1e-5]\n",
        "# after analysing the result I decided to stick to lr = 1e-2\n",
        "lr_list = [1e-2]\n",
        "\n",
        "for lr in lr_list:\n",
        "\n",
        "  optimizer = torch.optim.Adam(model.parameters(),lr=lr)\n",
        "\n",
        "  # run_training(model, optimizer, loss_function, device, num_epochs, train_dataloader, val_dataloader, early_stopper=None, verbose=False)\n",
        "  train_losses, val_losses, train_accs, val_accs, confusion_matrix = run_training(model,\n",
        "                                                                                  optimizer, \n",
        "                                                                                  loss_function, \n",
        "                                                                                  'cuda', \n",
        "                                                                                  num_epochs, \n",
        "                                                                                  trainloader, \n",
        "                                                                                  valloader)\n",
        "  plot(\"Epoch vs Loss\", \"Loss\", train_losses, val_losses)\n",
        "  plot(\"Epoch vs Accuracy\", \"Accuracy\", train_accs, val_accs)"
      ]
    },
    {
      "cell_type": "markdown",
      "metadata": {
        "id": "O2t-meZ1eFv3"
      },
      "source": [
        "Has your model already converged, i.e. reached the highest accuracy on the validation set? Probably not. So here are your todo's:\n",
        "\n",
        "#### TODO:\n",
        "- Train the model for 100 epochs (this might take approx. 30 min depending on your GPU)\n",
        "\n",
        "#### TODO from now on, for all subsequent tasks:\n",
        "- Print the overall best value and the epoch at which it occurred of:\n",
        "    - val loss and\n",
        "    - val accuracy"
      ]
    },
    {
      "cell_type": "code",
      "execution_count": 39,
      "metadata": {
        "id": "La4aTfZ8eFv3",
        "outputId": "d2483361-53ed-4a83-c998-9a76f2e7d12f",
        "colab": {
          "base_uri": "https://localhost:8080/",
          "height": 634
        }
      },
      "outputs": [
        {
          "output_type": "display_data",
          "data": {
            "text/plain": [
              "<Figure size 432x288 with 1 Axes>"
            ],
            "image/png": "[encoded data removed]"
          },
          "metadata": {}
        },
        {
          "output_type": "display_data",
          "data": {
            "text/plain": [
              "<Figure size 432x288 with 1 Axes>"
            ],
            "image/png": "[encoded data removed]"
          },
          "metadata": {}
        },
        {
          "output_type": "stream",
          "name": "stdout",
          "text": [
            "maximum validation accuracy is : 0.1011, at epoch number: 1\n",
            "minimum loss (validation): 3.231369233131409, at epoch number: 3\n"
          ]
        }
      ],
      "source": [
        "####################\n",
        "## YOUR CODE HERE ##\n",
        "####################\n",
        "\n",
        "num_epochs=5 #100\n",
        "lr = 1e-2\n",
        "optimizer = torch.optim.Adam(model.parameters(), lr=lr)\n",
        "loss_function = torch.nn.CrossEntropyLoss()\n",
        "\n",
        "# run_training(model, optimizer, loss_function, device, num_epochs, train_dataloader, val_dataloader, early_stopper=None, verbose=False)\n",
        "train_losses, val_losses, train_accs, val_accs, confusion_matrix = run_training(model, \n",
        "                                                                                optimizer, \n",
        "                                                                                loss_function, \n",
        "                                                                                'cuda', \n",
        "                                                                                num_epochs, \n",
        "                                                                                trainloader, \n",
        "                                                                                valloader)\n",
        "\n",
        "# plot(title, label, train_results, val_results, yscale='linear', save_path=None, extra_pt=None, extra_pt_label=None)\n",
        "plot(\"Epoch vs Loss\", \"Loss\", train_losses, val_losses,'linear',None,(min(val_losses),val_losses.index(min(val_losses))+1))\n",
        "plot(\"Epoch vs Accuracy\", \"Accuracy\", train_accs, val_accs,'linear',None,(max(val_accs),val_accs.index(max(val_accs))+1))\n",
        "\n",
        "print(f\"maximum validation accuracy is : {max(val_accs)}, at epoch number: {val_accs.index(max(val_accs))+1}\")\n",
        "\n",
        "print(f\"minimum loss (validation): {min(val_losses)}, at epoch number: {val_losses.index(min(val_losses))+1}\")"
      ]
    },
    {
      "cell_type": "markdown",
      "metadata": {
        "id": "KFsJrf1neFv5"
      },
      "source": [
        "Let's have a look at those training curves! Here are some questions for you.\n",
        "\n",
        "#### TODO\n",
        "Answer the following questions in written form, as they are really crucial for the rest of this course.\n",
        "\n",
        "1. Does the training loss decrease after each epoch? Why does it? // Why does it not?\n",
        "1. Does the validation loss decrease after each epoch? Why does it? // Why does it not? (For your answer to be sufficient, you should describe fluctuations and discuss the overall minimum of the curve.)\n",
        "1. Do the training and validation accuracy increase after each epoch? Why? // Why not?\n",
        "1. Are the epochs at which you got the best validation loss and the best validation accuracy the same?\n",
        "1. (Optional): Do you have any ideas why not?\n",
        "1. At which epoch was your model best? I.e. if you had saved your model after each training epoch, which one would you use to make predictions to unseen samples (e.g. from the test set)? Why? (For your answer to be sufficient: Also discuss what this means in terms of overfitting)"
      ]
    },
    {
      "cell_type": "markdown",
      "metadata": {
        "id": "cSnOOxvdeFv5"
      },
      "source": [
        "#### Your answers:\n",
        "1. ..."
      ]
    },
    {
      "cell_type": "markdown",
      "metadata": {
        "id": "IPPHBgR7eFv7"
      },
      "source": [
        "## Save and restore model checkpoints\n",
        "\n",
        "Training that model for 100 epochs took quite a bit of time, right? Wouldn't it be a pity if it would get deleted out of memory, e.g. because your Colab session terminates (this can even happen automatically)? We would have to train it again to make predictions! To prevent this, we would like to save a check-point of the already optimized model's weights to disk. Then, we could just load our model weights at any time and use our model again without retraining. As you will see in a bit, this will be very handy for early stopping, too!\n",
        "\n",
        "#### TODO\n",
        "- Save a checkpoint of the `model` trained above (i.e. the model's parameters) to disk\n",
        "- Initialize a new model, `model2` with the same architecture as used for the `model` you stored. Do *not* train `model2`.\n",
        "- Compute `model2`'s validation set accuracy. *Hint:* You can use the validation function from above. As a parameter, you would have to set `master_bar=None` since there is no progress bar for epochs in this setting.\n",
        "- Now, overwrite the initialized, untrained weights of `model2` with the weights you saved into the checkpoint of `model`.\n",
        "- Evaluate `model2`'s validation set accuracy again. It should be of the exact same value as `model`'s validation set accuracy.\n",
        "\n",
        "*Hints:*\n",
        "- Read https://pytorch.org/tutorials/beginner/saving_loading_models.html\n",
        "- Use `model.state_dict()`"
      ]
    },
    {
      "cell_type": "code",
      "execution_count": null,
      "metadata": {
        "id": "yI-CK9_PeFv7"
      },
      "outputs": [],
      "source": [
        "####################\n",
        "## YOUR CODE HERE ##\n",
        "####################\n",
        "# feel free to add more cells here\n",
        "\n",
        "# saving the checkpoint of the `model`.\n",
        "num_epochs=5 #100\n",
        "lr = 1e-2\n",
        "optimizer = torch.optim.Adam(model.parameters(), lr=lr)\n",
        "loss_function = torch.nn.CrossEntropyLoss()\n",
        "\n",
        "# run_training(model, optimizer, loss_function, device, num_epochs, train_dataloader, val_dataloader, early_stopper=None, verbose=False)\n",
        "train_losses, val_losses, train_accs, val_accs, confusion_matrix = run_training(model, \n",
        "                                                                                optimizer, \n",
        "                                                                                loss_function, \n",
        "                                                                                'cuda', \n",
        "                                                                                num_epochs, \n",
        "                                                                                trainloader, \n",
        "                                                                                valloader)\n",
        "\n",
        "plot(\"Epoch vs Loss\", \"Loss\", train_losses, val_losses,'linear',None,(min(val_losses),val_losses.index(min(val_losses))+1))\n",
        "plot(\"Epoch vs Accuracy\", \"Accuracy\", train_accs, val_accs,'linear',None,(max(val_accs),val_accs.index(max(val_accs))+1))\n",
        "\n",
        "print(f\"maximum validation accuracy is : {max(val_accs)}, at epoch number: {val_accs.index(max(val_accs))+1}\")\n",
        "\n",
        "print(f\"minimum loss (validation): {min(val_losses)}, at epoch number: {val_losses.index(min(val_losses))+1}\")\n"
      ]
    },
    {
      "cell_type": "markdown",
      "metadata": {
        "id": "gHxCJzGHeFv9"
      },
      "source": [
        "## Early stopping\n",
        "\n",
        "So the model you ended up with after 100 epochs was not the best one. That has two implications for us: (1) We would not have had to train for that many epochs and could have saved some computing time. (2) We do not have the best model to apply our model to make actual predictions for unseen samples. If we would constantly assess our model's validation performance during training, we could stop optimization as soon as our model's performance does not increase anymore. This is called *early stopping*.\n",
        "\n",
        "\n",
        "#### TODO:\n",
        "- Implement the `EarlyStopper` class below\n",
        "- Modify `def run_training(...)` above such that it updates the `EarlyStopper` after each training epoch. Stop training as soon as the validation accuracy did not increase anymore. Then, load the model checkpoint of the previous epoch (i.e. your best model)"
      ]
    },
    {
      "cell_type": "code",
      "execution_count": 40,
      "metadata": {
        "id": "GM059zWBeFv9"
      },
      "outputs": [],
      "source": [
        "class EarlyStopper:\n",
        "    \"\"\"Early stops the training if validation accuracy does not increase after a\n",
        "    given patience. Saves and loads model checkpoints.\n",
        "    \"\"\"\n",
        "    def __init__(self, verbose=False, path='checkpoint.pt', patience=1):\n",
        "        \"\"\"Initialization.\n",
        "\n",
        "        Args:\n",
        "            verbose (bool, optional): Print additional information. Defaults to False.\n",
        "            path (str, optional): Path where checkpoints should be saved. \n",
        "                Defaults to 'checkpoint.pt'.\n",
        "        \"\"\"\n",
        "        ####################\n",
        "        ## YOUR CODE HERE ##\n",
        "        ####################\n",
        "        self.path = path\n",
        "        self.accuracy = 0\n",
        "        self.stop = False\n",
        "        self.move_on = 0\n",
        "        self.patience = patience\n",
        "\n",
        "    @property\n",
        "    def early_stop(self):\n",
        "        \"\"\"True if early stopping criterion is reached.\n",
        "\n",
        "        Returns:\n",
        "            [bool]: True if early stopping criterion is reached.\n",
        "        \"\"\"\n",
        "        ####################\n",
        "        ## YOUR CODE HERE ##\n",
        "        ####################\n",
        "        return self.stop\n",
        "\n",
        "    ####################\n",
        "    ## YOUR CODE HERE ##\n",
        "    ####################\n",
        "    # define more methods required to make `EarlyStopper` functional\n",
        "    def check_accuracy(self, accuracy, model):\n",
        "      if accuracy > self.accuracy:\n",
        "        self.move_on = 0\n",
        "        self.accuracy = accuracy\n",
        "        torch.save(model.state_dict(), self.path)\n",
        "      else:\n",
        "        self.move_on += 1\n",
        "        if self.move_on == self.patience:\n",
        "          self.stop = True"
      ]
    },
    {
      "cell_type": "markdown",
      "metadata": {
        "id": "Cc5OrrpkeFv_"
      },
      "source": [
        "#### TODO:\n",
        "- Train a MLP model (same architecture, optimization, etc. as you used before)\n",
        "- Set `num_epochs = 100`\n",
        "- Use your `EarlyStopper` to stop training early, after validation accuracy did not increase for one epoch (see description in TODOs above)\n",
        "\n",
        "#### TODO here and for all subsequent exercises:\n",
        "- In the training plots you create, mark the validation accuracy point of the model you end up with after stopping your training early. To do so, you can implement the missing functionality in `def plot(...)` above."
      ]
    },
    {
      "cell_type": "code",
      "execution_count": 41,
      "metadata": {
        "id": "9-Vmz_PMeFv_",
        "outputId": "dce10b28-6c6d-46c0-8f1b-28fd7384b309",
        "colab": {
          "base_uri": "https://localhost:8080/",
          "height": 656
        }
      },
      "outputs": [
        {
          "output_type": "display_data",
          "data": {
            "text/plain": [
              "<IPython.core.display.HTML object>"
            ],
            "text/html": [
              "\n",
              "<style>\n",
              "    /* Turns off some styling */\n",
              "    progress {\n",
              "        /* gets rid of default border in Firefox and Opera. */\n",
              "        border: none;\n",
              "        /* Needs to be in here for Safari polyfill so background images work as expected. */\n",
              "        background-size: auto;\n",
              "    }\n",
              "    .progress-bar-interrupted, .progress-bar-interrupted::-webkit-progress-bar {\n",
              "        background: #F44336;\n",
              "    }\n",
              "</style>\n"
            ]
          },
          "metadata": {}
        },
        {
          "output_type": "display_data",
          "data": {
            "text/plain": [
              "<IPython.core.display.HTML object>"
            ],
            "text/html": [
              "\n",
              "    <div>\n",
              "      <progress value='2' class='' max='5' style='width:300px; height:20px; vertical-align: middle;'></progress>\n",
              "      40.00% [2/5 00:32<00:48]\n",
              "    </div>\n",
              "    \n",
              "\n",
              "\n",
              "    <div>\n",
              "      <progress value='10' class='' max='10' style='width:300px; height:20px; vertical-align: middle;'></progress>\n",
              "      100.00% [10/10 00:03<00:00]\n",
              "    </div>\n",
              "    "
            ]
          },
          "metadata": {}
        },
        {
          "output_type": "stream",
          "name": "stdout",
          "text": [
            "Finished training after 49 seconds.\n"
          ]
        },
        {
          "output_type": "display_data",
          "data": {
            "text/plain": [
              "<Figure size 432x288 with 1 Axes>"
            ],
            "image/png": "[encoded data removed]"
          },
          "metadata": {}
        },
        {
          "output_type": "display_data",
          "data": {
            "text/plain": [
              "<Figure size 432x288 with 1 Axes>"
            ],
            "image/png": "[encoded data removed]"
          },
          "metadata": {}
        }
      ],
      "source": [
        "####################\n",
        "## YOUR CODE HERE ##\n",
        "####################\n",
        "\n",
        "num_epochs=5 #100\n",
        "\n",
        "lr = 1e-2\n",
        "optimizer = torch.optim.Adam(model.parameters(), lr=lr)\n",
        "loss_function = torch.nn.CrossEntropyLoss()\n",
        "\n",
        "train_dataloader = trainloader\n",
        "val_dataloader = valloader\n",
        "device = 'cuda'\n",
        "\n",
        "early_stopping = EarlyStopper()\n",
        "\n",
        "train_losses, val_losses, train_accs, val_accs, confusion_matrix = run_training(model, \n",
        "                                                                                optimizer, \n",
        "                                                                                loss_function, \n",
        "                                                                                device, \n",
        "                                                                                num_epochs, \n",
        "                                                                                train_dataloader, \n",
        "                                                                                val_dataloader,\n",
        "                                                                                early_stopping)\n",
        "\n",
        "\n",
        "plot(\"Epoch vs Loss\", \"Loss\", train_losses, val_losses,'linear',None,(min(val_losses),val_losses.index(min(val_losses))+1))\n",
        "plot(\"Epoch vs Accuracy\", \"Accuracy\", train_accs, val_accs,'linear',None,(max(val_accs),val_accs.index(max(val_accs))+1))"
      ]
    },
    {
      "cell_type": "markdown",
      "metadata": {
        "id": "2tTSx5ZMeFwC"
      },
      "source": [
        "#### TODO\n",
        "- Compare the training you just did with the one of the same model trained for 100 epochs. Did you reach best model performance? If so: why? If not: why not?\n",
        "- Implement a patience functionality into `EarlyStopper`: stop model training, if validation accuracy did not increase for `patience` epochs. You are allowed to add more arguments to `EarlyStopper.__init__`.\n",
        "- Do the same training as in the previous cell, starting training from scratch, but try different values for `patience` now. Did you end up with a model resulting in the best validation accuracy you have seen so far, but without training the full 100 epochs?"
      ]
    },
    {
      "cell_type": "code",
      "execution_count": null,
      "metadata": {
        "id": "rRTh-z49eFwD"
      },
      "outputs": [],
      "source": [
        "####################\n",
        "## YOUR CODE HERE ##\n",
        "####################\n",
        "\n",
        "num_epochs=5 #100\n",
        "\n",
        "lr = 1e-2\n",
        "optimizer = torch.optim.Adam(model.parameters(), lr=lr)\n",
        "loss_function = torch.nn.CrossEntropyLoss()\n",
        "\n",
        "train_dataloader = trainloader\n",
        "val_dataloader = valloader\n",
        "device = 'cuda'\n",
        "\n",
        "early_stopping = EarlyStopper()\n",
        "\n",
        "for i in [1,2,5,10]:\n",
        "  train_losses, val_losses, train_accs, val_accs, confusion_matrix = run_training(model, \n",
        "                                                                                  optimizer, \n",
        "                                                                                  loss_function, \n",
        "                                                                                  device, \n",
        "                                                                                  num_epochs, \n",
        "                                                                                  train_dataloader, \n",
        "                                                                                  val_dataloader,\n",
        "                                                                                  early_stopping)\n",
        "\n",
        "  plot(\"Epoch vs Loss\", \"Loss\", train_losses, val_losses,'linear',None,(min(val_losses),val_losses.index(min(val_losses))+1))\n",
        "  plot(\"Epoch vs Accuracy\", \"Accuracy\", train_accs, val_accs,'linear',None,(max(val_accs),val_accs.index(max(val_accs))+1))"
      ]
    },
    {
      "cell_type": "markdown",
      "metadata": {
        "id": "byDY0YLveFwF"
      },
      "source": [
        "## Which learning rate is best?\n",
        "\n",
        "Now that we have a learning strategy that works well, let us explore the effect of the learning rate on training and model performance.\n",
        "\n",
        "#### TODO:\n",
        "- Run training again as above, but with learning rate decreased by one order of magnitude, i.e. `lr = 1e-3`\n",
        "- Run training again as above, but now with even smaller learning rate, `lr = 1e-4`\n",
        "- What do you observe in terms of model accuracy? How long did it take to train these models? Which learning rate would you choose for any subsequent experiments you could do?"
      ]
    },
    {
      "cell_type": "code",
      "execution_count": null,
      "metadata": {
        "id": "032sYUdDeFwF"
      },
      "outputs": [],
      "source": [
        "lr = 1e-3\n",
        "\n",
        "####################\n",
        "## YOUR CODE HERE ##\n",
        "####################\n",
        "\n",
        "num_epochs=5 #100\n",
        "optimizer = torch.optim.Adam(model.parameters(), lr=lr)\n",
        "loss_function = torch.nn.CrossEntropyLoss()\n",
        "\n",
        "train_dataloader = trainloader\n",
        "val_dataloader = valloader\n",
        "device = 'cuda'\n",
        "\n",
        "early_stopping = EarlyStopper()\n",
        "\n",
        "\n",
        "train_losses, val_losses, train_accs, val_accs, confusion_matrix = run_training(model, \n",
        "                                                                                optimizer, \n",
        "                                                                                loss_function, \n",
        "                                                                                device, \n",
        "                                                                                num_epochs, \n",
        "                                                                                train_dataloader, \n",
        "                                                                                val_dataloader,\n",
        "                                                                                early_stopping)\n",
        "\n",
        "plot(\"Epoch vs Loss\", \"Loss\", train_losses, val_losses,'linear',None,(min(val_losses),val_losses.index(min(val_losses))+1))\n",
        "plot(\"Epoch vs Accuracy\", \"Accuracy\", train_accs, val_accs,'linear',None,(max(val_accs),val_accs.index(max(val_accs))+1))"
      ]
    },
    {
      "cell_type": "code",
      "execution_count": null,
      "metadata": {
        "id": "pZIbB93ueFwH"
      },
      "outputs": [],
      "source": [
        "lr = 1e-4\n",
        "\n",
        "####################\n",
        "## YOUR CODE HERE ##\n",
        "####################\n",
        "\n",
        "num_epochs=5 #100\n",
        "path = 'checkpoint.pt'\n",
        "\n",
        "optimizer = torch.optim.Adam(model.parameters(), lr=lr)\n",
        "loss_function = torch.nn.CrossEntropyLoss()\n",
        "\n",
        "train_dataloader = trainloader\n",
        "val_dataloader = valloader\n",
        "device = 'cuda'\n",
        "\n",
        "early_stopping = EarlyStopper()\n",
        "\n",
        "\n",
        "train_losses, val_losses, train_accs, val_accs, confusion_matrix = run_training(model, \n",
        "                                                                                optimizer, \n",
        "                                                                                loss_function, \n",
        "                                                                                device, \n",
        "                                                                                num_epochs, \n",
        "                                                                                train_dataloader, \n",
        "                                                                                val_dataloader,\n",
        "                                                                                early_stopping)\n",
        "\n",
        "plot(\"Epoch vs Loss\", \"Loss\", train_losses, val_losses,'linear',None,(min(val_losses),val_losses.index(min(val_losses))+1))\n",
        "plot(\"Epoch vs Accuracy\", \"Accuracy\", train_accs, val_accs,'linear',None,(max(val_accs),val_accs.index(max(val_accs))+1))"
      ]
    },
    {
      "cell_type": "markdown",
      "metadata": {
        "id": "1BBcqbTheFwI"
      },
      "source": [
        "## Explore batch size *(optional)*\n",
        "\n",
        "*This task is optional, you do not need to solve it*\n",
        "\n",
        "Let us explore even more model and training parameters. In this section, we will see the impact of batch size on training. Let us use a learning rate of $10^{-3}$ from now on.\n",
        "\n",
        "\n",
        "#### TODO *(optional)*\n",
        "- Run training of the same model used above with \n",
        "    - batch size 1 for **one epoch**\n",
        "    - batch size 512 for 100 epochs, using early stopping with patience 10\n",
        "- Compare your training results of all three batch sizes you have trained, i.e. batch size 1, 512 and 1024 (from above)\n",
        "- Was it smart to set batch size to 1?\n",
        "- How long (in terms of computing time) do your models need to train for the different batch sizes? (You could even measure this with python, using the `time` package)\n",
        "- What is the impact on model performance?\n",
        "\n",
        "*Hint*: You have to initialize new data loaders, as they provide you with batches during training."
      ]
    },
    {
      "cell_type": "code",
      "execution_count": null,
      "metadata": {
        "id": "oCc_ZyC5eFwJ"
      },
      "outputs": [],
      "source": [
        "# Batch size 1\n",
        "\n",
        "###############################\n",
        "## YOUR CODE HERE - OPTIONAL ##\n",
        "###############################\n",
        "\n"
      ]
    },
    {
      "cell_type": "code",
      "execution_count": null,
      "metadata": {
        "id": "V3rwJldneFwK"
      },
      "outputs": [],
      "source": [
        "# Batch size 512\n",
        "\n",
        "###############################\n",
        "## YOUR CODE HERE - OPTIONAL ##\n",
        "###############################\n",
        "\n"
      ]
    },
    {
      "cell_type": "markdown",
      "metadata": {
        "id": "P_E7PyCfeFwM"
      },
      "source": [
        "# What about the architecture?\n",
        "\n",
        "How does architecture affect predictive performance? \n",
        "\n",
        "#### TODO:\n",
        "In the following, try to improve model performance by varying \n",
        "- number of  hidden units\n",
        "- number of layers\n",
        "- activation function used\n",
        "\n",
        "These parameters are called hyper-parameters, since they are excluded from model optimization. Instead, we have to set them by hand and explore them to find a model with good predictive accuracy. \n",
        "\n",
        "Vary only one hyper-parameter at a time. If you would vary multiple parameters at the same time, it would be harder for you to see the impact that each parameter has."
      ]
    },
    {
      "cell_type": "code",
      "execution_count": null,
      "metadata": {
        "id": "3jzirzs6eFwM"
      },
      "outputs": [],
      "source": [
        "# number of hidden units\n",
        "\n",
        "####################\n",
        "## YOUR CODE HERE ##\n",
        "####################\n",
        "\n",
        "best_val_acc = []\n",
        "num_hidden_units_list = [50, 100, 150, 200, 250, 300, 350]\n",
        "lr = 1e-2\n",
        "\n",
        "# img_width, num_in_channels, num_classes, num_hidden_units=30, num_hidden_layers=1, act_fn=None)\n",
        "for i in num_hidden_units_list:\n",
        "  model = MLP(32, 3, 10, i)\n",
        "  model.to(device=\"cuda\")\n",
        "\n",
        "  num_epochs=5 #100\n",
        "  path = 'checkpoint.pt'\n",
        "\n",
        "  optimizer = torch.optim.Adam(model.parameters(), lr=lr)\n",
        "  loss_function = torch.nn.CrossEntropyLoss()\n",
        "\n",
        "  train_dataloader = trainloader\n",
        "  val_dataloader = valloader\n",
        "  device = 'cuda'\n",
        "\n",
        "  early_stopping = EarlyStopper()\n",
        "\n",
        "\n",
        "  train_losses, val_losses, train_accs, val_accs, confusion_matrix = run_training(model, \n",
        "                                                                                  optimizer, \n",
        "                                                                                  loss_function, \n",
        "                                                                                  device, \n",
        "                                                                                  num_epochs, \n",
        "                                                                                  train_dataloader, \n",
        "                                                                                  val_dataloader,\n",
        "                                                                                  early_stopping)\n",
        "  best_val_acc.append(val_accs)\n",
        "  plot(\"Epoch vs Loss\", \"Loss\", train_losses, val_losses,'linear',None,(min(val_losses),val_losses.index(min(val_losses))+1))\n",
        "  plot(\"Epoch vs Accuracy\", \"Accuracy\", train_accs, val_accs,'linear',None,(max(val_accs),val_accs.index(max(val_accs))+1))\n",
        "\n",
        "print(f\"Number of hidden units with highest accuracy ({max(best_val_acc)}) is: {num_hidden_units_list.index(max(best_val_acc))}\")"
      ]
    },
    {
      "cell_type": "code",
      "execution_count": null,
      "metadata": {
        "id": "UYPafKw0eFwO"
      },
      "outputs": [],
      "source": [
        "# number of layers\n",
        "\n",
        "####################\n",
        "## YOUR CODE HERE ##\n",
        "####################\n",
        "\n",
        "best_val_acc = []\n",
        "num_hidden_layers_list = [2, 3, 4, 5]\n",
        "lr = 1e-2\n",
        "\n",
        "# img_width, num_in_channels, num_classes, num_hidden_units=30, num_hidden_layers=1, act_fn=None)\n",
        "for i in num_hidden_layers_list:\n",
        "  model = MLP(32, 3, 10, 30, i)\n",
        "  model.to(device=\"cuda\")\n",
        "  \n",
        "  num_epochs=5 #100\n",
        "  path = 'checkpoint.pt'\n",
        "\n",
        "  optimizer = torch.optim.Adam(model.parameters(), lr=lr)\n",
        "  loss_function = torch.nn.CrossEntropyLoss()\n",
        "\n",
        "  train_dataloader = trainloader\n",
        "  val_dataloader = valloader\n",
        "  device = 'cuda'\n",
        "\n",
        "  early_stopping = EarlyStopper()\n",
        "\n",
        "\n",
        "  train_losses, val_losses, train_accs, val_accs, confusion_matrix = run_training(model, \n",
        "                                                                                  optimizer, \n",
        "                                                                                  loss_function, \n",
        "                                                                                  device, \n",
        "                                                                                  num_epochs, \n",
        "                                                                                  train_dataloader, \n",
        "                                                                                  val_dataloader,\n",
        "                                                                                  early_stopping)\n",
        "  \n",
        "  best_val_acc.append(val_accs)\n",
        "  plot(\"Epoch vs Loss\", \"Loss\", train_losses, val_losses,'linear',None,(min(val_losses),val_losses.index(min(val_losses))+1))\n",
        "  plot(\"Epoch vs Accuracy\", \"Accuracy\", train_accs, val_accs,'linear',None,(max(val_accs),val_accs.index(max(val_accs))+1))\n",
        "\n",
        "print(f\"Number of hidden units with highest accuracy ({max(best_val_acc)}) is: {num_hidden_layers_list.index(max(best_val_acc))}\")"
      ]
    },
    {
      "cell_type": "code",
      "execution_count": null,
      "metadata": {
        "id": "EcyOj7UjeFwQ"
      },
      "outputs": [],
      "source": [
        "# activation function\n",
        "\n",
        "####################\n",
        "## YOUR CODE HERE ##\n",
        "####################\n",
        "\n",
        "best_val_acc = []\n",
        "act_fn_list = [nn.LeakyReLU(), nn.ELU(), nn.Softmax(), nn.Softplus()]\n",
        "lr = 1e-4\n",
        "\n",
        "# img_width, num_in_channels, num_classes, num_hidden_units=30, num_hidden_layers=1, act_fn=None)\n",
        "for i in act_fn_list:\n",
        "  model = MLP(32, 3, 10, 30, 1, i)\n",
        "  model.to(device=\"cuda\")\n",
        "  \n",
        "  num_epochs=5 #100\n",
        "  path = 'checkpoint.pt'\n",
        "\n",
        "  optimizer = torch.optim.Adam(model.parameters(), lr=lr)\n",
        "  loss_function = torch.nn.CrossEntropyLoss()\n",
        "\n",
        "  train_dataloader = trainloader\n",
        "  val_dataloader = valloader\n",
        "  device = 'cuda'\n",
        "\n",
        "  early_stopping = EarlyStopper()\n",
        "\n",
        "\n",
        "  train_losses, val_losses, train_accs, val_accs, confusion_matrix = run_training(model, \n",
        "                                                                                  optimizer, \n",
        "                                                                                  loss_function, \n",
        "                                                                                  device, \n",
        "                                                                                  num_epochs, \n",
        "                                                                                  train_dataloader, \n",
        "                                                                                  val_dataloader,\n",
        "                                                                                  early_stopping)\n",
        "  \n",
        "  plot(\"Epoch vs Loss\", \"Loss\", train_losses, val_losses,'linear',None,(min(val_losses),val_losses.index(min(val_losses))+1))\n",
        "  plot(\"Epoch vs Accuracy\", \"Accuracy\", train_accs, val_accs,'linear',None,(max(val_accs),val_accs.index(max(val_accs))+1))"
      ]
    },
    {
      "cell_type": "markdown",
      "metadata": {
        "id": "ZgXai4xteFwS"
      },
      "source": [
        "#### Questions\n",
        "- How good do you get?\n",
        "- Which hyper-parameter makes the largest difference?\n",
        "- Does it always help to make your model bigger (i.e. wider / deeper)? Why not?\n",
        "\n"
      ]
    },
    {
      "cell_type": "markdown",
      "metadata": {
        "id": "L9wsnkyceFwT"
      },
      "source": [
        "**Your answers:**\n",
        "- ..."
      ]
    },
    {
      "cell_type": "markdown",
      "metadata": {
        "id": "MFiHBK-eeFwT"
      },
      "source": [
        "Now, here are more TODO's, questions and a little challenge for you: \n",
        "\n",
        "#### TODO\n",
        "- If you choose your best values for number hidden units, number of layers and activation function that you determined by varying them independently above: Does performance improve? Why?\n",
        "- Vary all of the parameters at the same time to maximize the predictive performance of your model. How good do you get?\n",
        "    - When creating the exercise, I got a validation accuracy of 57%\n",
        "    - Surpassing 50% val. acc. should be possible for you"
      ]
    },
    {
      "cell_type": "code",
      "execution_count": null,
      "metadata": {
        "id": "qZXotVoQeFwU"
      },
      "outputs": [],
      "source": [
        "# Your best model:\n",
        "\n",
        "####################\n",
        "## YOUR CODE HERE ##\n",
        "####################\n",
        "\n"
      ]
    },
    {
      "cell_type": "markdown",
      "metadata": {
        "id": "-7az35LQeFwV"
      },
      "source": [
        "#### Questions:\n",
        "- If you train the same model multiple times from scratch: do you get the same performance? Are the models you trained above comparable then?\n",
        "- What could we do about this?\n",
        "    - *Hint:* there are actually multiple answers to this question. \n",
        "    - One could be to change model training and evaluation. How?\n",
        "    - The other could be to use a more sophisticated analysis. How?"
      ]
    },
    {
      "cell_type": "markdown",
      "metadata": {
        "id": "saJHmiCSeFwV"
      },
      "source": [
        "# Evaluate your best model on test set, once!\n",
        "\n",
        "When doing a study, at the very end right before writing up your paper, you evaluate the best model you chose on the test set. This is the performance value you will report to the public.\n",
        "\n",
        "#### TODO\n",
        "- What is the accuracy of the best model you found on the test set?\n",
        "- Plot the confusion matrix, too! *(optional)*"
      ]
    },
    {
      "cell_type": "code",
      "execution_count": null,
      "metadata": {
        "id": "TAyc0H4WeFwW"
      },
      "outputs": [],
      "source": [
        "def test(test_loader, model, device):\n",
        "    \"\"\"Compute accuracy and confusion matrix on test set.\n",
        "\n",
        "    Args:\n",
        "        test_loader (DataLoader): torch DataLoader of test set\n",
        "        model (nn.Module): Model to evaluate on test set\n",
        "        device (torch.device): Device to use\n",
        "\n",
        "    Returns:\n",
        "        float, torch.Tensor shape (10,10): Returns model accuracy on test set\n",
        "            (percent classified correctly) and confusion matrix\n",
        "    \"\"\"\n",
        "    ####################\n",
        "    ## YOUR CODE HERE ##\n",
        "    ####################\n"
      ]
    },
    {
      "cell_type": "code",
      "execution_count": null,
      "metadata": {
        "id": "8Nl80LoHeFwZ"
      },
      "outputs": [],
      "source": [
        "####################\n",
        "## YOUR CODE HERE ##\n",
        "####################\n",
        "\n"
      ]
    },
    {
      "cell_type": "markdown",
      "metadata": {
        "id": "2NNCn73veFwb"
      },
      "source": [
        "#### Questions:\n",
        "- On which classes is your model's prediction poor?\n",
        "- Is the test accuracy of your model as good as the validation accuracy?\n",
        "- If those values are different: How can you explain the difference?\n",
        "- Why should you never use test set performance when trying out different hyper-parameters and architectures?"
      ]
    }
  ],
  "metadata": {
    "accelerator": "GPU",
    "colab": {
      "collapsed_sections": [],
      "name": "Sol_Ex2_2020.ipynb",
      "provenance": []
    },
    "kernelspec": {
      "display_name": "Python 3 (ipykernel)",
      "language": "python",
      "name": "python3"
    },
    "language_info": {
      "codemirror_mode": {
        "name": "ipython",
        "version": 3
      },
      "file_extension": ".py",
      "mimetype": "text/x-python",
      "name": "python",
      "nbconvert_exporter": "python",
      "pygments_lexer": "ipython3",
      "version": "3.9.7"
    },
    "nteract": {
      "version": "0.15.0"
    },
    "widgets": {
      "application/vnd.jupyter.widget-state+json": {
        "5763cd70c18846a1a369202b36d90056": {
          "model_module": "@jupyter-widgets/controls",
          "model_name": "HBoxModel",
          "model_module_version": "1.5.0",
          "state": {
            "_dom_classes": [],
            "_model_module": "@jupyter-widgets/controls",
            "_model_module_version": "1.5.0",
            "_model_name": "HBoxModel",
            "_view_count": null,
            "_view_module": "@jupyter-widgets/controls",
            "_view_module_version": "1.5.0",
            "_view_name": "HBoxView",
            "box_style": "",
            "children": [
              "IPY_MODEL_228574fb95e14d72bdafc45e06d645a2",
              "IPY_MODEL_61b2d93653574b0aadfa97fa9467dcff",
              "IPY_MODEL_89ea8f4fb8364956a2f0c750e6ef9152"
            ],
            "layout": "IPY_MODEL_b5e3de68d460425c9ea3c4ac55a95e07"
          }
        },
        "228574fb95e14d72bdafc45e06d645a2": {
          "model_module": "@jupyter-widgets/controls",
          "model_name": "HTMLModel",
          "model_module_version": "1.5.0",
          "state": {
            "_dom_classes": [],
            "_model_module": "@jupyter-widgets/controls",
            "_model_module_version": "1.5.0",
            "_model_name": "HTMLModel",
            "_view_count": null,
            "_view_module": "@jupyter-widgets/controls",
            "_view_module_version": "1.5.0",
            "_view_name": "HTMLView",
            "description": "",
            "description_tooltip": null,
            "layout": "IPY_MODEL_488fe8ecd39248d3bf2623526f05c5df",
            "placeholder": "​",
            "style": "IPY_MODEL_1d3300fc5ae54e15a35191d866c643a1",
            "value": ""
          }
        },
        "61b2d93653574b0aadfa97fa9467dcff": {
          "model_module": "@jupyter-widgets/controls",
          "model_name": "FloatProgressModel",
          "model_module_version": "1.5.0",
          "state": {
            "_dom_classes": [],
            "_model_module": "@jupyter-widgets/controls",
            "_model_module_version": "1.5.0",
            "_model_name": "FloatProgressModel",
            "_view_count": null,
            "_view_module": "@jupyter-widgets/controls",
            "_view_module_version": "1.5.0",
            "_view_name": "ProgressView",
            "bar_style": "success",
            "description": "",
            "description_tooltip": null,
            "layout": "IPY_MODEL_38419af9f7874246aaeb08d3774aed4a",
            "max": 170498071,
            "min": 0,
            "orientation": "horizontal",
            "style": "IPY_MODEL_3ed6d5e9cb9047298b1f0c309c80631b",
            "value": 170498071
          }
        },
        "89ea8f4fb8364956a2f0c750e6ef9152": {
          "model_module": "@jupyter-widgets/controls",
          "model_name": "HTMLModel",
          "model_module_version": "1.5.0",
          "state": {
            "_dom_classes": [],
            "_model_module": "@jupyter-widgets/controls",
            "_model_module_version": "1.5.0",
            "_model_name": "HTMLModel",
            "_view_count": null,
            "_view_module": "@jupyter-widgets/controls",
            "_view_module_version": "1.5.0",
            "_view_name": "HTMLView",
            "description": "",
            "description_tooltip": null,
            "layout": "IPY_MODEL_4cfac05678f747fc8d759e3c442ced3e",
            "placeholder": "​",
            "style": "IPY_MODEL_b3e1504759204b8d8d856b46b9f261b4",
            "value": " 170499072/? [00:05&lt;00:00, 33345526.57it/s]"
          }
        },
        "b5e3de68d460425c9ea3c4ac55a95e07": {
          "model_module": "@jupyter-widgets/base",
          "model_name": "LayoutModel",
          "model_module_version": "1.2.0",
          "state": {
            "_model_module": "@jupyter-widgets/base",
            "_model_module_version": "1.2.0",
            "_model_name": "LayoutModel",
            "_view_count": null,
            "_view_module": "@jupyter-widgets/base",
            "_view_module_version": "1.2.0",
            "_view_name": "LayoutView",
            "align_content": null,
            "align_items": null,
            "align_self": null,
            "border": null,
            "bottom": null,
            "display": null,
            "flex": null,
            "flex_flow": null,
            "grid_area": null,
            "grid_auto_columns": null,
            "grid_auto_flow": null,
            "grid_auto_rows": null,
            "grid_column": null,
            "grid_gap": null,
            "grid_row": null,
            "grid_template_areas": null,
            "grid_template_columns": null,
            "grid_template_rows": null,
            "height": null,
            "justify_content": null,
            "justify_items": null,
            "left": null,
            "margin": null,
            "max_height": null,
            "max_width": null,
            "min_height": null,
            "min_width": null,
            "object_fit": null,
            "object_position": null,
            "order": null,
            "overflow": null,
            "overflow_x": null,
            "overflow_y": null,
            "padding": null,
            "right": null,
            "top": null,
            "visibility": null,
            "width": null
          }
        },
        "488fe8ecd39248d3bf2623526f05c5df": {
          "model_module": "@jupyter-widgets/base",
          "model_name": "LayoutModel",
          "model_module_version": "1.2.0",
          "state": {
            "_model_module": "@jupyter-widgets/base",
            "_model_module_version": "1.2.0",
            "_model_name": "LayoutModel",
            "_view_count": null,
            "_view_module": "@jupyter-widgets/base",
            "_view_module_version": "1.2.0",
            "_view_name": "LayoutView",
            "align_content": null,
            "align_items": null,
            "align_self": null,
            "border": null,
            "bottom": null,
            "display": null,
            "flex": null,
            "flex_flow": null,
            "grid_area": null,
            "grid_auto_columns": null,
            "grid_auto_flow": null,
            "grid_auto_rows": null,
            "grid_column": null,
            "grid_gap": null,
            "grid_row": null,
            "grid_template_areas": null,
            "grid_template_columns": null,
            "grid_template_rows": null,
            "height": null,
            "justify_content": null,
            "justify_items": null,
            "left": null,
            "margin": null,
            "max_height": null,
            "max_width": null,
            "min_height": null,
            "min_width": null,
            "object_fit": null,
            "object_position": null,
            "order": null,
            "overflow": null,
            "overflow_x": null,
            "overflow_y": null,
            "padding": null,
            "right": null,
            "top": null,
            "visibility": null,
            "width": null
          }
        },
        "1d3300fc5ae54e15a35191d866c643a1": {
          "model_module": "@jupyter-widgets/controls",
          "model_name": "DescriptionStyleModel",
          "model_module_version": "1.5.0",
          "state": {
            "_model_module": "@jupyter-widgets/controls",
            "_model_module_version": "1.5.0",
            "_model_name": "DescriptionStyleModel",
            "_view_count": null,
            "_view_module": "@jupyter-widgets/base",
            "_view_module_version": "1.2.0",
            "_view_name": "StyleView",
            "description_width": ""
          }
        },
        "38419af9f7874246aaeb08d3774aed4a": {
          "model_module": "@jupyter-widgets/base",
          "model_name": "LayoutModel",
          "model_module_version": "1.2.0",
          "state": {
            "_model_module": "@jupyter-widgets/base",
            "_model_module_version": "1.2.0",
            "_model_name": "LayoutModel",
            "_view_count": null,
            "_view_module": "@jupyter-widgets/base",
            "_view_module_version": "1.2.0",
            "_view_name": "LayoutView",
            "align_content": null,
            "align_items": null,
            "align_self": null,
            "border": null,
            "bottom": null,
            "display": null,
            "flex": null,
            "flex_flow": null,
            "grid_area": null,
            "grid_auto_columns": null,
            "grid_auto_flow": null,
            "grid_auto_rows": null,
            "grid_column": null,
            "grid_gap": null,
            "grid_row": null,
            "grid_template_areas": null,
            "grid_template_columns": null,
            "grid_template_rows": null,
            "height": null,
            "justify_content": null,
            "justify_items": null,
            "left": null,
            "margin": null,
            "max_height": null,
            "max_width": null,
            "min_height": null,
            "min_width": null,
            "object_fit": null,
            "object_position": null,
            "order": null,
            "overflow": null,
            "overflow_x": null,
            "overflow_y": null,
            "padding": null,
            "right": null,
            "top": null,
            "visibility": null,
            "width": null
          }
        },
        "3ed6d5e9cb9047298b1f0c309c80631b": {
          "model_module": "@jupyter-widgets/controls",
          "model_name": "ProgressStyleModel",
          "model_module_version": "1.5.0",
          "state": {
            "_model_module": "@jupyter-widgets/controls",
            "_model_module_version": "1.5.0",
            "_model_name": "ProgressStyleModel",
            "_view_count": null,
            "_view_module": "@jupyter-widgets/base",
            "_view_module_version": "1.2.0",
            "_view_name": "StyleView",
            "bar_color": null,
            "description_width": ""
          }
        },
        "4cfac05678f747fc8d759e3c442ced3e": {
          "model_module": "@jupyter-widgets/base",
          "model_name": "LayoutModel",
          "model_module_version": "1.2.0",
          "state": {
            "_model_module": "@jupyter-widgets/base",
            "_model_module_version": "1.2.0",
            "_model_name": "LayoutModel",
            "_view_count": null,
            "_view_module": "@jupyter-widgets/base",
            "_view_module_version": "1.2.0",
            "_view_name": "LayoutView",
            "align_content": null,
            "align_items": null,
            "align_self": null,
            "border": null,
            "bottom": null,
            "display": null,
            "flex": null,
            "flex_flow": null,
            "grid_area": null,
            "grid_auto_columns": null,
            "grid_auto_flow": null,
            "grid_auto_rows": null,
            "grid_column": null,
            "grid_gap": null,
            "grid_row": null,
            "grid_template_areas": null,
            "grid_template_columns": null,
            "grid_template_rows": null,
            "height": null,
            "justify_content": null,
            "justify_items": null,
            "left": null,
            "margin": null,
            "max_height": null,
            "max_width": null,
            "min_height": null,
            "min_width": null,
            "object_fit": null,
            "object_position": null,
            "order": null,
            "overflow": null,
            "overflow_x": null,
            "overflow_y": null,
            "padding": null,
            "right": null,
            "top": null,
            "visibility": null,
            "width": null
          }
        },
        "b3e1504759204b8d8d856b46b9f261b4": {
          "model_module": "@jupyter-widgets/controls",
          "model_name": "DescriptionStyleModel",
          "model_module_version": "1.5.0",
          "state": {
            "_model_module": "@jupyter-widgets/controls",
            "_model_module_version": "1.5.0",
            "_model_name": "DescriptionStyleModel",
            "_view_count": null,
            "_view_module": "@jupyter-widgets/base",
            "_view_module_version": "1.2.0",
            "_view_name": "StyleView",
            "description_width": ""
          }
        }
      }
    }
  },
  "nbformat": 4,
  "nbformat_minor": 0
}